{
 "cells": [
  {
   "cell_type": "code",
   "execution_count": 1,
   "metadata": {},
   "outputs": [],
   "source": [
    "#Пичужкина О. В.\n",
    "\n",
    "import os\n",
    "import re\n",
    "import numpy as np\n",
    "import matplotlib.pyplot as plt\n",
    "#импорт всех необходимых библиотек\n",
    "\n",
    "anaphors_by_authors = {}\n",
    "anaphors_by_authors_len = {}\n",
    "anaphors_by_authors_len_words = {}\n",
    "anaphors = open('anaphors.txt', 'w') #создаёт пустой словарь и файл для анафор\n",
    "\n",
    "def get_phrase(text, i):\n",
    "    return text[i].strip(' ') \n",
    "\n",
    "def get_first_word(text, i):\n",
    "    return (((get_phrase(text, i).split(' '))[0]).lower())\n",
    "\n",
    "#функции, которые достают из разбитого на фрагменты текста фрагмент и его первое слово по номеру фрагмента\n",
    "\n",
    "files = os.listdir()\n",
    "for file in files:\n",
    "    if file.endswith('txt') and file != 'anaphors.txt':\n",
    "        author = (file.split('_'))[0]\n",
    "        anaphors_by_authors[author] = []\n",
    "        anaphors_by_authors_len[author] = []\n",
    "        anaphors_by_authors_len_words[author] = []\n",
    "        f = open(file, 'r', errors = 'ignore')\n",
    "        text = f.read()\n",
    "        text = re.findall(r\"[\\w' ]+\", text) #разбивает текст на фрагменты\n",
    "        word = ''\n",
    "        is_anaphora = False\n",
    "        phrase = ''\n",
    "        len_phrase = 0\n",
    "        for i in range(len(text)):\n",
    "            if get_first_word(text, i) == word:\n",
    "                is_anaphora = True\n",
    "                phrase += (' ' + get_phrase(text, i))\n",
    "                len_phrase += 1\n",
    "            else:\n",
    "                is_anaphora = False\n",
    "                if len_phrase > 1:\n",
    "                    anaphors_by_authors[author].append(phrase)\n",
    "                    anaphors_by_authors_len[author].append(len_phrase)\n",
    "                    anaphors_by_authors_len_words[author].append(len(phrase.split(' ')))\n",
    "                phrase = get_phrase(text, i)\n",
    "                len_phrase = 1       \n",
    "                word = get_first_word(text, i) #находит анафоры и записывает их в словарь\n",
    "        f.close()"
   ]
  },
  {
   "cell_type": "code",
   "execution_count": 2,
   "metadata": {},
   "outputs": [
    {
     "name": "stdout",
     "output_type": "stream",
     "text": [
      "{'Vergil': ['hic illivs arma hic cvrrvs fvit hoc regnvm dea gentibvs esse', 'qvid mevs Aeneas in te committere tantvm qvid Troes potvere qvibvs tot fvnera passis', 'an Phoebi soror an Nympharvm sangvinis vna', 'miratvr molem Aeneas magalia qvondam miratvr portas strepitvm qve et strata viarvm', 'svnt hic etiam sva praemia lavdi svnt lacrimae rervm et mentem mortalia tangvnt', 'hac fvgerent Grai premeret Troiana ivventvs hac Phryges instaret cvrrv cristatvs Achilles', 'nvnc qvibvs Avrorae venisset filivs armis nvnc qvales Diomedis eqvi nvnc qvantvs Achilles', 'avt hoc inclvsi ligno occvltantvr Achivi avt haec in nostros fabricata est machina mvros', 'nec mihi iam patriam antiqvam spes vlla videndi nec dvlcis natos exoptatvm qve parentem', 'fas mihi Graiorvm sacrata resolvere ivra fas odisse viros at qve omnia ferre svb avras', 'cvi parvvs Ivlvs cvi pater et conivnx qvondam tva dicta relinqvor', 'ter conatvs ibi collo dare bracchia circvm ter frvstra comprensa manvs effvgit imago', 'nos te Dardania incensa tva qve arma secvti nos tvmidvm svb te permensi classibvs aeqvor', 'Italiam Italiam primvs conclamat Achates Italiam laeto socii clamore salvtant', 'ter scopvli clamorem inter cava saxa dedere ter spvmam elisam et rorantia vidimvs astra', 'qvid vota fvrentem qvid delvbra ivvant', 'Atlantis dvri caelvm qvi vertice fvlcit Atlantis cinctvm adsidve cvi nvbibvs atris', 'nec te noster amor nec te data dextera qvondam nec moritvra tenet crvdeli fvnere Dido', 'nvm fletv ingemvit nostro nvm lvmina flexit', 'nvnc avgvr Apollo nvnc Lyciae sortes nvnc et Iove missvs ab ipso', 'qvem secvm patrios aivnt portare penatis qvem svbiisse vmeris confectvm aetate parentem', 'ter sese attollens cvbito qve adnixa levavit ter revolvta toro est ocvlis qve errantibvs alto', 'hoc Helymvs facit hoc aevi matvrvs Acestes hoc pver Ascanivs seqvitvr qvos cetera pvbes', \"' itervm 'pete saxa Menoete '\", 'mvlta viri neqviqvam inter se vvlnera iactant mvlta cavo lateri ingeminant et pectore vastos', 'et mihi qvae fverint ivvenali in corpore vires et qva servetis revocatvm a morte Dareta', 'hic qvaerite Troiam hic domvs est', 'bis conatvs erat casvs effingere in avro bis patriae cecidere manvs', 'qvid Thesea magnvm qvid memorem Alciden', 'per sidera ivro per svperos et si qva fides tellvre svb ima est', 'an monitv divvm an qvae te fortvna fatigat', 'qvi qve sacerdotes casti dvm vita manebat qvi qve pii vates et Phoebo digna locvti', 'da ivngere dextram da genitor te qve amplexv ne svbtrahe nostro', 'ter conatvs ibi colo dare bracchia circvm ter frvstra comprensa manvs effvgit imago', 'hi tibi Nomentvm et Gabios vrbem qve Fidenam hi Collatinas imponent montibvs arces', 'dicam horrida bella dicam acies actos qve animis in fvnera reges', 'hoc pater Anchises avro libabat ad aras hoc Priami gestamen erat cvm ivra vocatis', 'nvm Sigeis occvmbere campis nvm capti potvere capi nvm incensa cremavit', 'at qve immota manet fatis Lavinia conivnx at trahere at qve moras tantis licet addere rebvs at licet amborvm popvlos exscindere regvm', 'qvid tva sancta fides qvid cvra antiqva tvorvm', 'hvnc decvs egregivm formae movet at qve ivventae hvnc atavi reges hvnc claris dextera factis', 'hi Fescenninas acies Aeqvos qve Faliscos hi Soractis habent arces Flavinia qve arva', 'qvi Nomentvm vrbem qvi Rosea rvra Velini qvi Tetricae horrentis rvpes montem qve Severvm', 'te nemvs Angitiae vitrea te Fvcinvs vnda te liqvidi flevere lacvs', 'te filia Nerei te potvit lacrimis Tithonia flectere conivnx', 'nvnc viribvs vsvs nvnc manibvs rapidis omni nvnc arte magistra', 'dvm cvrae ambigvae dvm spes incerta fvtvri dvm te care pver mea sola et sera volvptas', 'hic Nomadvm genvs et discinctos Mvlciber Afros hic Lelegas Caras qve sagittiferos qve Gelonos', 'et iam collecti Troes glomerantvr eodem et conferre manvm et procvrrere longivs avdent', 'tvm Meropem at qve Erymanta manv tvm sternit Aphidnvm tvm Bitian ardentem ocvlis animis qve frementem', 'qvid repetam exvstas Erycino in litore classis qvid tempestatvm regem ventos qve fvrentis', 'per vos et fortia facta per dvcis Evandri nomen devicta qve bella', 'hinc Pallas instat et vrget hinc contra Lavsvs nec mvltvm discrepat aetas', 'hoc decvs illi hoc solamen erat bellis hoc victor abibat', 'nec veni nisi fata locvm sedem qve dedissent nec bellvm cvm gente gero rex nostra reliqvit', 'nvnc et Myrmidonvm proceres Phrygia arma tremescvnt nvnc et Tydides et Larisaevs Achilles', 'si nvllam nostris vltra spem ponis in armis si tam deserti svmvs et semel agmine verso', 'avt ille in pastvs armenta qve tendit eqvarvm avt adsvetvs aqvae perfvndi flvmine noto', 'bis Tvsci Rvtvlos egere ad moenia versos bis reiecti armis respectant terga tegentes', 'hvc derige gressvm hvc peritvre veni capias vt digna Camillae', 'ensem qve clipevm qve et rvbrae cornva cristae ensem qvem Davno ignipotens devs ipse parenti', 'et genvs Assaraci Mnesthevs et fortis Asilas et Messapvs eqvvm domitor Neptvnia proles', 'in te ora Latini in te ocvlos refervnt mvssat rex ipse Latinvs', 'sit Lativm sint Albani per saecvla reges sit Romana potens Itala virtvte propago', 'nec qvo se eripiat nec qva vi tendat in hostem nec cvrrvs vsqvam videt avrigamve sororem'], 'Cicero': ['tam amentem tam impudentem fore arbitrabatur', 'Neque hoc a vobis populus Romanus exspectat neque eo potest esse contentus', 'partim in vinculis necavit partim implorantis iura libertatis', 'non adulterum sed expugnatorem pudicitiae non sacrilegum sed hostem sacrorum', 'cum fana spoliarit cum tot', 'Non est non est in hoc homine cuiquam peccandi locus', 'non is est reus non id tempus non id consilium', 'tot equitibus Romanis tot civitatibus tot hominibus', 'ex fanis religiosissimis et ex urbibus sociorum atque amicorum non dubitarit auferre', 'aut a me ullum munus aedilitatis amplius aut gratius populo Romano esse possit', 'quis tam iniquus huic ordini fuit quis', 'non possitis Non enim potest sperare populus Romanus', 'aut mea causa potius est constitutum quam tua aut nihilo', 'semel dicta causa semel', 'Cum Dio ipse prodiret cum ceteri qui tum in', 'ne oratio deesset ne vox viresque deficerent', 'ego bis accusare non possem Ego meum consilium cum', 'Hoc est rationes referre hoc', 'quae impudentia quae audacia', 'quae ne falso quidem potuit quibus data essent describere quae se Arimini scribit reliquisse quae ipsa HS sescenta milia reliqua facta sunt', 'non attigit pecuniam non ad exercitum', 'ab se hominem atque ab exercitu suo removit', 'O scelus o portentum in', 'necesse est semper aliquid eius modi moliatur necesse', 'quam acerba toti Asiae quam clara apud omnis quam', 'quae signa sustulit quae', 'hoc signum ablatum esse et illud hoc dico', 'Quam multis istum ingenuis quam', 'cum seditionem sedare vellem cum frumentum imperarem cum stipendium cogerem cum aliquid denique rei publicae causa', 'quod acrius imperavi quod animadverti quod', 'idem testimonium diceret idem esset in consilio idem accusatorem', 'quid huius lacrimas et concursationes proferam quid C', 'quem fletum totius Asiae fuisse quem luctum et', 'quod audieris quod', 'cum circumsessus a tam inlustri civitate sis propter tuum scelus atque flagitium cum coegeris', 'ad manus ad arma confugere', 'si doceo si planum facio teste homine nequam', 'Qui te circumsedit qui te vivum comburere', 'ubi accusas ubi defendis', 'Quid igitur te iuvat Neronis iudicium quid Philodami damnatio', 'Cur imminuisti ius legationis cur causam populi Romani deseruisti ac prodidisti', 'quis non commoveretur quis non ex iniuria quae tibi esset facta sibi', 'Si te magnitudo malefici si hominum existimatio non', 'Manent istae litterae Mileti manent', 'nullam matri eius nullam tutoribus reddidit', 'Quo modo ex deciens HS sescenta sint facta quo modo', 'En cui tuos liberos committas en', 'manus a pupillo manus a sodalis filio abstinere non potuisti', 'aut opera probata aut frugalitatis existimatione praeclara aut denique', 'quaesturam cum meretricibus lenonibusque vixisset quaesturam ita gessisset quem ad modum cognovistis', 'sine duce ullo sine indice pervenerit ad hanc improbitatem', 'quem ad modum in rationem inducerent quem', 'quis umquam edixit isto modo quis umquam eius rei fraudem aut periculum proposuit edicto', 'non inofficiosum non inhumanum', 'in isdem causis fuerunt in his nuper Annaea de multorum', 'Quid enim natura nobis iucundius quid', 'si potes si habes qui te audiat si', 'Si de hereditate ambigitvr si possessor sponsionem non faciet', 'sine labore sine molestia sine impensa', 'quae libido istius in iure dicundo fuerit quae varietas', 'multa sibi opus esse multa canibus suis', 'Quid igitur in iudiciis sequemur Quid est aliud omnibus', 'quo saepe numero senatus convocatur quo', 'negat id sibi deberi negat oportere exigi', 'non aequitas non misericordia non propinqui oratio non amici voluntas non cuiusquam auctoritas', 'O multis acerbam o miseram atque', 'nova iura nova decreta nova iudicia petebantur', 'Nihil ingeniose nihil ut quisquam posset dicere', 'nihil ab isto vafrum nihil veteratorium exspectaveritis', 'omnia aperta omnia perspicua', 'Dic dic', 'si pupilli calamitas si', 'dico esse quae a tuo redemptore commotae non sint dico', 'Qvi redemerit satis det damni infecti ei qvi a vetere redemptore accepit', 'aut Saturnini aut alicuius hominis eius modi produxeram filium', 'tum legibus tum aequitati magistratuum tum iudiciis vestris commendatum putavit', 'quin iniuriae quin audaciae', 'quam aperte quam', 'ut arare ut pascere', 'ut negotiari libeat ut denique sedes ac domicilium conlocare', 'nulla desidia nulla luxuries', 'si humano modo si usitato more si denique uno aliquo in', 'quam inanem offenderant quam Verrem ipsum', 'cum istius in quaestura fugam et furtum recognosceret cum in legatione oppidorum fanorumque spoliationes', 'qui causam Dionis egit qui omnibus rebus interfuit', 'nihil ex Dione nihil ex', 'tot interea praetores tot quaestores tot calumniatores in', 'Verres calumniatorem adponebat Verres', 'Verres cognoscebat Verres iudicabat', 'ob edicta ob imperia ob', 'nemo vestrum possit aedis suas nemo fundum nemo bona', 'nulla reiectione nulla sorte ex libidine istius datis', 'ipse te impedies ipse tua defensione', 'venerat testamento venerat', 'quam palam quam acerbe', 'Nostis os hominis nostis audaciam', 'Quid est quod tu alios accuses quid', 'quod fanum denique quod non eversum', 'Quam facile serpat iniuria et peccandi consuetudo quam', 'antequam aditum in ius esset antequam mentio', 'quod Volcatius ei non succensuit quod iste neque in Volcatium', 'alia Agrigenti alia Panhormi restituta', 'Ad quos Ad me', 'Retinete retinete hominem in civitate', 'minus ad vitae nostrae discrimen minus ad fortunarum', 'Illud est capitale illud', 'Hoc populus Romanus recusat hoc ferre non potest', 'et trades cui voles et ei quem', 'hic alteram decuriam senatoriam iudex obtinebit hic de capite libero iudicabit', 'qui Sopatrum defendit qui omnibus', 'alia rogando alia', 'nihil imperio nihil gratia nihil pretio posset', 'neque humanitatis rationem habuisset umquam neque in', 'Videte porro aliam amentiam videte ut', 'quem cognitorem daret Quem', 'quam honestus quam idoneus propter cuius auctoritatem', 'qui scribit qui monet qui proximus est', 'tantam crudelitatem tantam iniuriam vindicare', 'nullum signum nullum ornamentum', 'nihil ex sacro nihil', 'quamvis indignus quamvis ex eo loco ex quo non', 'de censu de ceteris rebus', 'et pueri annorum senum septenumque denum senatorium nomen nundinati sunt et quod Halaesini', 'quamvis audacter quamvis impudenter', 'omnium adversarios omnium inimicos', 'quibus opus esset metum offerre quibus expediret spem', 'ut aratores ut mercatores ut navicularii', 'et Epicrati Bidinos et pupillo', 'an tibi an cui tu imperasses', 'si hoc voluntate sua nulla civitas fecit si', 'aratores ei statuam sua voluntate statuisse aratores', 'quantum ab aratoribus quantum ab negotiatoribus qui Syracusis', 'qui Agrigenti qui Panhormi qui Lilybaei negotiantur esset', 'qui poteris qui', 'veniunt cum mandatis veniunt cum testimoniis publicis', 'tot in Africa tot in Hispania', 'et religionem esse quandam in his rebus a maioribus traditam et hoc disputari', 'Ex quo igitur crimen atque accusatio nascitur Ex', 'cur oderunt cur Halaesini cur', 'cur Segestani cur Halicyenses', 'quem numerum quem ordinem proferre possum', 'utrum de te aratores utrum denique Siculi universi bene', 'magis rem iudicatam adferre magis reum condemnatum in', 'plurimam vestem Melitensem plurimam stragulam', 'et mihi summa facultas ad accusandum daretur et', 'me delatam audire oportere me Siculis satis esse facturum', 'nihil eorum investigare nihil adsequi potuerit', 'unde l tricliniorum lectos unde tot', 'quam varias quam infinitas habuerit', 'quid Agrigento quid Lilybaeo', 'quid Panhormo quid Thermis quid Halaesa quid Catina', 'quid ex ceteris oppidis quid vero Messana', 'Videtis Verrucium videtis primas litteras integras', 'Quid exspectatis quid', 'quid sedes quid', 'Nemo enim tum ita peccabat ut defensioni locum non relinqueret nemo ita vivebat', 'quis inhumanior quis superbior', 'Quis acerbior quis insidiosior quis crudelior'], 'Caesar': ['pro multitudine autem hominum et pro gloria belli atque fortitudinis angustos se fines habere', 'quod eo invito iter per provinciam per vim temptassent quod Haeduos quod Ambarros quod Allobroges', 'tam necessario tempore tam propinquis hostibus ab iis', 'quod per fines Sequanorum Helvetios traduxisset quod obsides inter eos dandos curasset quod ea omnia non modo iniussu suo et civitatis', 'quae ipse intellegat quae civitas queratur proponit', 'neque evellere neque sinistra impedita satis commode pugnare poterant', 'omnem nobilitatem omnem senatum omnem equitatum', 'neque enim conferendum esse Gallicum cum Germanorum agro neque hanc consuetudinem victus', 'aut Caesari aut omnino populo Romano negotii esset', 'quod amicus quod munera amplissime missa', 'quod in suo iure se interpellaremus quod', 'neque bello Allobrogum proximo Haeduos Romanis auxilium tulisse neque ipsos in his contentionibus', 'et propter fidem et propter linguae Gallicae scientiam', 'sive propter lini inopiam atque eius usus inscientiam sive', 'aut eundem casum una ferant aut sibi mortem consciscant', 'vel sibi agros attribuant vel patiantur eos tenere quos', 'ne propius se castra moveret petiverunt ne id quidem', 'ut Germanis metum iniceret ut Sugambros ulcisceretur ut Ubios obsidione', 'neque enim temere praeter mercatores adit ad illos quisquam neque iis ipsis quicquam', 'neque quanta esset insulae magnitudo neque quae aut quantae nationes incolerent neque quem', 'ad nutum et ad tempus omnes res ab iis administrarentur', 'partim quod insuetus navigandi mare timeret partim quod religionibus impediri sese diceret', 'et quod loci naturam ignorabat et quod magna parte diei consumpta munitioni', 'quod eius opera stipendio liberatus esset quod Atuatucis', 'alter milia passuum circiter quinquaginta alter paulo', 'seu maneant seu proficiscantur', 'quid secum portare posset quid ex instrumento hibernorum relinquere cogeretur', 'alii vallum manu scindere alii fossas complere inciperent', 'alias ut situm castrorum cognosceret alias', 'et publice iurare cogerent nihil se contra Sequanos consilii inituros et partem finitimi agri per vim occupatam', 'si caedes facta si de heredidate', 'de mundi ac terrarum magnitudine de rerum natura de deorum immortalium vi ac', 'hunc viarum atque itinerum ducem hunc ad quaestus', 'quae visa sunt occultant quae esse ex usu iudicaverunt', 'ne latos fines parare studeant potentioresque humiliores possessionibus expellant ne accuratius ad frigora atque aestus vitandos aedificent ne qua', 'quam Eratostheni et quibusdam Graecis fama notam esse video quam illi Orcyniam', 'non oppidum non praesidium quod se armis defenderet', 'alius castra iam capta pronuntiat alius deleto', 'omnes partes dimittit omnes vici atque omnia aedificia'], 'Tacitus': ['neque decemviralis potestas ultra biennium neque', 'miles in forum miles in curiam comitabatur', 'non aliud discordantis patriae remedium fuisse quam ut ab uno regeretur non regno tamen', 'sed Pompeium imagine pacis sed Lepidum specie amicitiae deceptos', 'ad deos ad effigiem Augusti ad genua ipsius', 'alii parentem alii matrem patriae appellandam', 'hinc vestem arma tentoria hinc saevitiam centurionum et vacationes munerum redimi', 'cum osculis cum', 'ubi modestia militaris ubi', 'ipsius tirones ipsius veteranos', 'non missione non pecunia satiatos', 'si tribuni si legio industriam innocentiamque adprobaverant', 'non proelio non adversis e castris', 'non sexus non aetas miserationem attulit', 'arma in Segestem arma in', 'ut fugerant ut restiterant', 'quae domi cara quae in castris', 'non adhaerere ancoris non exhaurire inrumpentis undas poterant', 'satis iam eventuum satis casuum', 'sic Sugambros in deditionem acceptos sic Suebos', 'dum trepidant dum refugiunt', 'aliam apud Fabricios aliam', 'modo Hortensii inter oratores sitam imaginem modo Augusti intuens', 'cum coniunx cum filius eius servitium adhuc tolerent', 'et Marco Publiciis aedilibus constitutam et Iano templum', 'in Agrippinam in Germanicum contumelias iacere', 'si limen obsideretur si effundendus spiritus sub', 'ut provinciam ut legiones solus habeat', 'si quos spes meae si quos propinquus sanguis', 'quae voluerit meminisse quae mandaverit exequi', 'si solus arbiter rerum si iure et nomine regio fuisset', 'huic fascis et ius praetoris huic legiones', 'est tibi Augustae conscientia est Caesaris favor', 'ideo nimirum in extremas terras relegatum ideo Pisoni permissam provinciam', 'statim credita statim vulgata sunt', '   ', 'in Agrippinam in liberos eius', 'non mos non ius', 'Non enim Tiberius non accusatores fatiscebant', 'non ipse non Drusus profecti ad id bellum forent', 'neque metus ultra neque pudor est', 'non aemulationi non odio aut privatis adfectionibus obnoxium'], 'Manilius': ['et fera diversis exercita frvgibvs arva et vagvs in caecvm penetravit navita pontvm', 'Et qvoniam caelo descendit carmen ab alto et venit in terras fatorvm conditvs ordo', 'avt ne qve terra patrem novit nec flamma nec aer avt vmor facivnt qve devm per qvattvor artvs', 'nec vero solidvs stat robore corporis axis nec grave pondvs habet qvod onvs ferat aetheris alti', 'qvae svper exvstas labvntvr sidera terras qvae qve inter gelidvm Capricorni sidvs et axe', 'nec minor est illis mvndvs nec lvmine peior nec nvmerosa minvs nascvntvr sidera in orbem', 'nvnc horrida frigore svrgit nvnc vacvvm soli fvlgentem deserit orbem', 'et caelvm exvstvm est lvit ipse incendia mvndvs et vicina novis flagrarvnt sidera flammis', 'et Romana ferens qvae texit moenia Cocles et commilitio volvcris Corvinvs adeptvs et spolia et nomen qvi gestat in alite Phoebvm et Iove qvi mervit caelvm Romam qve Camillvs', 'et penetrant terras Aetnam qve minantvr Olympo et calidas reddvnt ipsis in fontibvs vndas', 'nec pontvs gravidas nvbes nec flvmina pontvm nec pelagvs fontes nec staret svmma per omnis', 'in tris aeqvalis discvrrit linea dvctvs in qve vicem extremis ivngit se finibvs ipsa', 'hinc rigor et glacies nivibvs qve albentia rvra hinc sitis et svdor nvdvs qve in collibvs orbis', 'qvod tria signa tribvs signis contraria fvlgent qvod qve aeterna manent hominvm bella at qve ferarvm', 'et geminos ivvenes dvplicem qve in Virgine formam et dvo Centavri licet vno corpora textv', 'et redvces annos avro qve incendia facta et male conceptos partvs peivs qve necatos', 'qvae svmmas opervm partes qvae lvcis honorem qvae famam assererent qvae nvmqvam fessa volarent', 'Et qvoniam qvanto varientvr tempora motv et qvibvs e cavsis dictvm est nvnc accipe signa', 'qvam minimam Capricornvs agit noctis qve per horas qvam svmmam qvod qve a ivsto svperaverit vmbris', 'nvnc glomerare rvdis nvnc rvrsvs solvere lanas nvnc tenvare levi filo nvnc dvcere telas nvnc emere et varias in qvaestvm vendere vestes', 'nvnc hominvm nvnc bella gervnt violenta ferarvm nvnc capvt in mortem vendvnt et fvnvs harenae', 'et nervos tribvit membris et acvmina cordi et celeris motvs nec delassabile pectvs', 'et varios fabricare lacvs et flvmina ficta et peregrinantis domibvs svspendere rivos', 'nec tantvm lanas Aries nec Tavrvs aratra nec Gemini Mvsas nec merces Cancer amabit nec Leo venator veniet nec Virgo magistra', 'et nvnc per scopvlos nvnc campis labitvr amnis et faciens iter avt qvaerens cvrritve reditve', 'Nec Cancri prima immvnis nec tertia pars est nec sexta octava est similis decima qve peracta', 'et mortis pastv viventia crimina terrae et vastos elephantas habet saevos qve leones', 'nec paribvs siliqvas referentem viribvs omnis nec te Bacche pari donantem mvnere terras', 'sic erit et sedes fvgienda petenda qve cvi qve sic speranda fides sic et metvenda pericla', 'ille privs victor stadio qvam missvs abibit ille cito motv rigidos elvdere caestvs', 'et sensvs scopvlis et silvis addidit avres et Diti lacrimas et morti deni qve finem']}\n"
     ]
    }
   ],
   "source": [
    "print(anaphors_by_authors)\n",
    "#полный список анафор"
   ]
  },
  {
   "cell_type": "code",
   "execution_count": 3,
   "metadata": {},
   "outputs": [
    {
     "name": "stdout",
     "output_type": "stream",
     "text": [
      "Vergil: 65\n",
      "Cicero: 158\n",
      "Caesar: 39\n",
      "Tacitus: 42\n",
      "Manilius: 31\n"
     ]
    }
   ],
   "source": [
    "for author in anaphors_by_authors:\n",
    "    anaphors.write(author + ': ' + str(len(anaphors_by_authors[author])) + '\\n')\n",
    "    print(author + ': ' + str(len(anaphors_by_authors[author])))\n",
    "    for s in anaphors_by_authors[author]:\n",
    "        anaphors.write(s + '\\n')\n",
    "anaphors.close() #записывает все анафоры (и кол-во по авторам) в файл"
   ]
  },
  {
   "cell_type": "code",
   "execution_count": 4,
   "metadata": {},
   "outputs": [
    {
     "name": "stdout",
     "output_type": "stream",
     "text": [
      "Vergil: 2.046153846153846\n",
      "Cicero: 2.170886075949367\n",
      "Caesar: 2.1794871794871793\n",
      "Tacitus: 2.0714285714285716\n",
      "Manilius: 2.129032258064516\n"
     ]
    }
   ],
   "source": [
    "for author in anaphors_by_authors_len:\n",
    "    print(author + ': ' + str(np.mean(anaphors_by_authors_len[author]))) #средняя длина анафор по авторам по количеству фраз"
   ]
  },
  {
   "cell_type": "code",
   "execution_count": 5,
   "metadata": {},
   "outputs": [
    {
     "name": "stdout",
     "output_type": "stream",
     "text": [
      "Vergil: 3\n",
      "Cicero: 5\n",
      "Caesar: 4\n",
      "Tacitus: 4\n",
      "Manilius: 4\n"
     ]
    }
   ],
   "source": [
    "for author in anaphors_by_authors_len:\n",
    "    print(author + ': ' + str(max(anaphors_by_authors_len[author]))) #максимальная длина анафор по авторам по количеству фраз"
   ]
  },
  {
   "cell_type": "code",
   "execution_count": 6,
   "metadata": {},
   "outputs": [
    {
     "name": "stdout",
     "output_type": "stream",
     "text": [
      "Vergil: 12.415384615384616\n",
      "Cicero: 7.246835443037975\n",
      "Caesar: 10.0\n",
      "Tacitus: 6.619047619047619\n",
      "Manilius: 15.387096774193548\n"
     ]
    }
   ],
   "source": [
    "for author in anaphors_by_authors_len_words:\n",
    "    print(author + ': ' + str(np.mean(anaphors_by_authors_len_words[author]))) #средняя длина анафор по авторам по количеству слов"
   ]
  },
  {
   "cell_type": "code",
   "execution_count": 7,
   "metadata": {},
   "outputs": [
    {
     "name": "stdout",
     "output_type": "stream",
     "text": [
      "Vergil: 22\n",
      "Cicero: 22\n",
      "Caesar: 21\n",
      "Tacitus: 14\n",
      "Manilius: 29\n"
     ]
    }
   ],
   "source": [
    "for author in anaphors_by_authors_len_words:\n",
    "    print(author + ': ' + str(max(anaphors_by_authors_len_words[author]))) #максимальная длина анафор по авторам по количеству слов"
   ]
  },
  {
   "cell_type": "code",
   "execution_count": 8,
   "metadata": {},
   "outputs": [
    {
     "data": {
      "image/png": "[encoded data removed]",
      "text/plain": [
       "<matplotlib.figure.Figure at 0x111ca27b8>"
      ]
     },
     "metadata": {},
     "output_type": "display_data"
    }
   ],
   "source": [
    "authors = []\n",
    "numbers = []\n",
    "for author in anaphors_by_authors:\n",
    "    authors.append(author)\n",
    "    numbers.append(len(anaphors_by_authors[author]))\n",
    "plt.scatter(authors, numbers, label = 'Количество анафор у разных авторов')\n",
    "plt.show()"
   ]
  },
  {
   "cell_type": "code",
   "execution_count": null,
   "metadata": {
    "collapsed": true
   },
   "outputs": [],
   "source": []
  }
 ],
 "metadata": {
  "kernelspec": {
   "display_name": "Python 3",
   "language": "python",
   "name": "python3"
  },
  "language_info": {
   "codemirror_mode": {
    "name": "ipython",
    "version": 3
   },
   "file_extension": ".py",
   "mimetype": "text/x-python",
   "name": "python",
   "nbconvert_exporter": "python",
   "pygments_lexer": "ipython3",
   "version": "3.6.3"
  }
 },
 "nbformat": 4,
 "nbformat_minor": 2
}
